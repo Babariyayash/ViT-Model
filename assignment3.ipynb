{
  "cells": [
    {
      "cell_type": "markdown",
      "metadata": {
        "id": "YZs3p2rzcId6"
      },
      "source": [
        "## Assignment 3: Vision Transformer and Contrastive Representation Learning\n",
        "\n",
        "In this assignment, first, you are to implement [Vision Transformer](https://arxiv.org/pdf/2010.11929v2.pdf) (ViT) for image recognition. Then, you are utilize the implemented ViT to train a model using [Contrastive Representation Learning](https://arxiv.org/pdf/1503.03832.pdf), i.e. Triplet Loss.\n",
        "\n",
        "### Submission Guidelines\n",
        "The assignment codebase is split into two files. `vit_model.py` and `assignment3.ipynb`. In `vit_model.py`, incomplete codes for ViT and embedding model are provided, while in `assignment3.ipynb`, incomplete codes to iterate [FashionMNIST dataset](https://github.com/zalandoresearch/fashion-mnist) and initiate training and testing are provided in blocks. You are to complete the missing codeblock (Marked with comments and #TODO signs) and train the embedding representation model.\n",
        "\n",
        "In addition to PyTorch, [pytorch-metric-learning](https://github.com/KevinMusgrave/pytorch-metric-learning) is needed to help with the implementation of contrastive representation learning. You are strongly encouraged to go through the [README of the repo](https://github.com/KevinMusgrave/pytorch-metric-learning/blob/master/README.md), which contains the basic usage of the package. You are also strongly encouraged to study the example notebooks provided within the repo, at your own pace.\n",
        "\n",
        "To submit this assignment for grading, you must submit a compressed zipfile as `Assignment3_{YourCCID}.zip`, with three files inside: `vit_model.py`, `assignment3.ipynb`, and your trained embedding model as `vit_embeds.pt`.\n",
        "\n",
        "### Collaboration Policy\n",
        "This must be your own work. Do not share or look at the code of other students (whether they are inside or outside the class). Do not copy the code from the Internet, other than referring [PyTorch's official tutorials](https://pytorch.org/tutorials/), or the examples provided within [pytorch-metric-learning repo](https://github.com/KevinMusgrave/pytorch-metric-learning/tree/master/examples). You can talk to others in the class about solution ideas (but detailed enough that you are verbally sharing, hearing or seeing the code). You must cite whom you talked with in the comments of your programs."
      ]
    },
    {
      "cell_type": "code",
      "execution_count": 1,
      "metadata": {
        "colab": {
          "base_uri": "https://localhost:8080/"
        },
        "id": "XVuYIttfcId8",
        "outputId": "498b288d-7276-456d-88db-fba3bf4d30aa"
      },
      "outputs": [
        {
          "name": "stdout",
          "output_type": "stream",
          "text": [
            "Collecting pytorch-metric-learning\n",
            "  Downloading pytorch_metric_learning-2.3.0-py3-none-any.whl (115 kB)\n",
            "\u001b[?25l     \u001b[90m━━━━━━━━━━━━━━━━━━━━━━━━━━━━━━━━━━━━━━━━\u001b[0m \u001b[32m0.0/115.3 kB\u001b[0m \u001b[31m?\u001b[0m eta \u001b[36m-:--:--\u001b[0m\r\u001b[2K     \u001b[91m━━━━━━━━━━━━━━━━━━━━━━━━━━━━━━━\u001b[0m\u001b[91m╸\u001b[0m\u001b[90m━━━━━━━━\u001b[0m \u001b[32m92.2/115.3 kB\u001b[0m \u001b[31m2.6 MB/s\u001b[0m eta \u001b[36m0:00:01\u001b[0m\r\u001b[2K     \u001b[90m━━━━━━━━━━━━━━━━━━━━━━━━━━━━━━━━━━━━━━━━\u001b[0m \u001b[32m115.3/115.3 kB\u001b[0m \u001b[31m2.5 MB/s\u001b[0m eta \u001b[36m0:00:00\u001b[0m\n",
            "\u001b[?25hRequirement already satisfied: numpy in /usr/local/lib/python3.10/dist-packages (from pytorch-metric-learning) (1.23.5)\n",
            "Requirement already satisfied: scikit-learn in /usr/local/lib/python3.10/dist-packages (from pytorch-metric-learning) (1.2.2)\n",
            "Requirement already satisfied: tqdm in /usr/local/lib/python3.10/dist-packages (from pytorch-metric-learning) (4.66.1)\n",
            "Requirement already satisfied: torch>=1.6.0 in /usr/local/lib/python3.10/dist-packages (from pytorch-metric-learning) (2.1.0+cu118)\n",
            "Requirement already satisfied: filelock in /usr/local/lib/python3.10/dist-packages (from torch>=1.6.0->pytorch-metric-learning) (3.12.4)\n",
            "Requirement already satisfied: typing-extensions in /usr/local/lib/python3.10/dist-packages (from torch>=1.6.0->pytorch-metric-learning) (4.5.0)\n",
            "Requirement already satisfied: sympy in /usr/local/lib/python3.10/dist-packages (from torch>=1.6.0->pytorch-metric-learning) (1.12)\n",
            "Requirement already satisfied: networkx in /usr/local/lib/python3.10/dist-packages (from torch>=1.6.0->pytorch-metric-learning) (3.1)\n",
            "Requirement already satisfied: jinja2 in /usr/local/lib/python3.10/dist-packages (from torch>=1.6.0->pytorch-metric-learning) (3.1.2)\n",
            "Requirement already satisfied: fsspec in /usr/local/lib/python3.10/dist-packages (from torch>=1.6.0->pytorch-metric-learning) (2023.6.0)\n",
            "Requirement already satisfied: triton==2.1.0 in /usr/local/lib/python3.10/dist-packages (from torch>=1.6.0->pytorch-metric-learning) (2.1.0)\n",
            "Requirement already satisfied: scipy>=1.3.2 in /usr/local/lib/python3.10/dist-packages (from scikit-learn->pytorch-metric-learning) (1.11.3)\n",
            "Requirement already satisfied: joblib>=1.1.1 in /usr/local/lib/python3.10/dist-packages (from scikit-learn->pytorch-metric-learning) (1.3.2)\n",
            "Requirement already satisfied: threadpoolctl>=2.0.0 in /usr/local/lib/python3.10/dist-packages (from scikit-learn->pytorch-metric-learning) (3.2.0)\n",
            "Requirement already satisfied: MarkupSafe>=2.0 in /usr/local/lib/python3.10/dist-packages (from jinja2->torch>=1.6.0->pytorch-metric-learning) (2.1.3)\n",
            "Requirement already satisfied: mpmath>=0.19 in /usr/local/lib/python3.10/dist-packages (from sympy->torch>=1.6.0->pytorch-metric-learning) (1.3.0)\n",
            "Installing collected packages: pytorch-metric-learning\n",
            "Successfully installed pytorch-metric-learning-2.3.0\n",
            "Collecting faiss-gpu\n",
            "  Downloading faiss_gpu-1.7.2-cp310-cp310-manylinux_2_17_x86_64.manylinux2014_x86_64.whl (85.5 MB)\n",
            "\u001b[2K     \u001b[90m━━━━━━━━━━━━━━━━━━━━━━━━━━━━━━━━━━━━━━━━\u001b[0m \u001b[32m85.5/85.5 MB\u001b[0m \u001b[31m9.6 MB/s\u001b[0m eta \u001b[36m0:00:00\u001b[0m\n",
            "\u001b[?25hInstalling collected packages: faiss-gpu\n",
            "Successfully installed faiss-gpu-1.7.2\n",
            "Requirement already satisfied: matplotlib in /usr/local/lib/python3.10/dist-packages (3.7.1)\n",
            "Requirement already satisfied: tqdm in /usr/local/lib/python3.10/dist-packages (4.66.1)\n",
            "Requirement already satisfied: contourpy>=1.0.1 in /usr/local/lib/python3.10/dist-packages (from matplotlib) (1.1.1)\n",
            "Requirement already satisfied: cycler>=0.10 in /usr/local/lib/python3.10/dist-packages (from matplotlib) (0.12.1)\n",
            "Requirement already satisfied: fonttools>=4.22.0 in /usr/local/lib/python3.10/dist-packages (from matplotlib) (4.43.1)\n",
            "Requirement already satisfied: kiwisolver>=1.0.1 in /usr/local/lib/python3.10/dist-packages (from matplotlib) (1.4.5)\n",
            "Requirement already satisfied: numpy>=1.20 in /usr/local/lib/python3.10/dist-packages (from matplotlib) (1.23.5)\n",
            "Requirement already satisfied: packaging>=20.0 in /usr/local/lib/python3.10/dist-packages (from matplotlib) (23.2)\n",
            "Requirement already satisfied: pillow>=6.2.0 in /usr/local/lib/python3.10/dist-packages (from matplotlib) (9.4.0)\n",
            "Requirement already satisfied: pyparsing>=2.3.1 in /usr/local/lib/python3.10/dist-packages (from matplotlib) (3.1.1)\n",
            "Requirement already satisfied: python-dateutil>=2.7 in /usr/local/lib/python3.10/dist-packages (from matplotlib) (2.8.2)\n",
            "Requirement already satisfied: six>=1.5 in /usr/local/lib/python3.10/dist-packages (from python-dateutil>=2.7->matplotlib) (1.16.0)\n"
          ]
        }
      ],
      "source": [
        "# NOTE: Make sure the external packages are installed in Colab\n",
        "!pip install pytorch-metric-learning\n",
        "!pip install faiss-gpu\n",
        "!pip install matplotlib tqdm"
      ]
    },
    {
      "cell_type": "code",
      "execution_count": 2,
      "metadata": {
        "id": "0Bimwm7PcId9"
      },
      "outputs": [],
      "source": [
        "# Necessary imports for this assignment\n",
        "# NOTE: DO NOT MODIFY UNLESS NECESSARY\n",
        "import tqdm\n",
        "import torch\n",
        "import numpy as np\n",
        "import torchvision\n",
        "from torchvision.transforms import Compose, ToTensor, Normalize, RandomHorizontalFlip, RandomCrop, CenterCrop\n",
        "import matplotlib.pyplot as plt\n",
        "from pytorch_metric_learning import miners, losses, distances\n",
        "from pytorch_metric_learning.distances import LpDistance\n",
        "import torch.optim as optim\n",
        "from torch.optim.lr_scheduler import MultiStepLR\n",
        "from pytorch_metric_learning.utils.accuracy_calculator import AccuracyCalculator"
      ]
    },
    {
      "cell_type": "code",
      "execution_count": 4,
      "metadata": {
        "id": "kH_Gwj-lcId-"
      },
      "outputs": [],
      "source": [
        "# Google Colab Patch\n",
        "use_colab = True\n",
        "if use_colab:\n",
        "    from google.colab import drive\n",
        "    drive.mount('/content/drive')\n",
        "    import sys\n",
        "    # ----------------------------------------\n",
        "    dir = \"/content/drive/MyDrive/Colab Notebooks/CMPUT 328/ASSIGNMENT 3\"    # TODO: MODIFY THIS TO INDICATE THE PARENT FOLDER OF YOUR vit_model.py file\n",
        "    # ----------------------------------------\n",
        "\n",
        "\n",
        "from vit_model import *"
      ]
    },
    {
      "cell_type": "code",
      "execution_count": 5,
      "metadata": {
        "id": "jzuFmnZPcId-"
      },
      "outputs": [],
      "source": [
        "# Hyperparameters\n",
        "# NOTE: Feel free to add & modify hyperparameters if needed\n",
        "num_epochs = 50\n",
        "batch_size = 25\n",
        "weight_decay = 1e-4\n",
        "lr = 1e-5       # TODO: Use appropriate LR with LR scheduler\n",
        "\n",
        "# ViT specifics\n",
        "image_size = 28\n",
        "in_channels = 1\n",
        "patch_size = 4\n",
        "hidden_size = 64\n",
        "layers = 6\n",
        "heads = 8\n",
        "embed_size = 64\n",
        "\n",
        "# Contrastive Learning specifics\n",
        "margin = 0.2"
      ]
    },
    {
      "cell_type": "markdown",
      "metadata": {
        "id": "3KjyHF1hcId-"
      },
      "source": [
        "### Part 1: Data Augmentation\n",
        "\n",
        "For the dataset, we will use the FashionMNIST dataset. For implmentation, you are explore the usage of different [data augmentation](https://pytorch.org/vision/master/auto_examples/transforms/plot_transforms_illustrations.html) techniques.\n",
        "\n",
        "**(1 out of 8)** You are to use at least 2 different types of data augmentation techniques (e.g. RandomHorizontalFlip) for training."
      ]
    },
    {
      "cell_type": "code",
      "execution_count": 6,
      "metadata": {
        "id": "nJVJ6s4VcId-"
      },
      "outputs": [],
      "source": [
        "# Load FashionMNIST dataset\n",
        "classes = [\"T-shirt/top\", \"Trouser\", \"Pullover\", \"Dress\", \"Coat\", \"Sandal\", \"Shirt\", \"Sneaker\", \"Bag\", \"Ankle boot\"]\n",
        "num_classes = len(classes)\n",
        "\n",
        "tfm_train = Compose([\n",
        "    # TODO: Add your data augmentation HERE\n",
        "    # ####################\n",
        "\n",
        "    RandomHorizontalFlip(p=0.5),  # Randomly flip images horizontally with a 50% probability\n",
        "    RandomCrop(size=(28, 28)),    # Randomly crop a square of size (28, 28)\n",
        "    CenterCrop(size=(28,28)),\n",
        "\n",
        "    # ####################\n",
        "    ToTensor(),\n",
        "    Normalize((0.5, ), (0.5, )),\n",
        "    ])\n",
        "\n",
        "tfm_test = Compose([\n",
        "    ToTensor(),\n",
        "    Normalize((0.5, ), (0.5, )),\n",
        "    ])"
      ]
    },
    {
      "cell_type": "code",
      "execution_count": 7,
      "metadata": {
        "colab": {
          "base_uri": "https://localhost:8080/",
          "height": 508
        },
        "id": "Z6kYrimHcId_",
        "outputId": "5b2afd36-265b-43d5-e8b7-bebc5a56fbc2"
      },
      "outputs": [
        {
          "name": "stdout",
          "output_type": "stream",
          "text": [
            "Downloading http://fashion-mnist.s3-website.eu-central-1.amazonaws.com/train-images-idx3-ubyte.gz\n",
            "Downloading http://fashion-mnist.s3-website.eu-central-1.amazonaws.com/train-images-idx3-ubyte.gz to ./data/FashionMNIST/raw/train-images-idx3-ubyte.gz\n"
          ]
        },
        {
          "name": "stderr",
          "output_type": "stream",
          "text": [
            "100%|██████████| 26421880/26421880 [00:02<00:00, 12254611.95it/s]\n"
          ]
        },
        {
          "name": "stdout",
          "output_type": "stream",
          "text": [
            "Extracting ./data/FashionMNIST/raw/train-images-idx3-ubyte.gz to ./data/FashionMNIST/raw\n",
            "\n",
            "Downloading http://fashion-mnist.s3-website.eu-central-1.amazonaws.com/train-labels-idx1-ubyte.gz\n",
            "Downloading http://fashion-mnist.s3-website.eu-central-1.amazonaws.com/train-labels-idx1-ubyte.gz to ./data/FashionMNIST/raw/train-labels-idx1-ubyte.gz\n"
          ]
        },
        {
          "name": "stderr",
          "output_type": "stream",
          "text": [
            "100%|██████████| 29515/29515 [00:00<00:00, 208442.93it/s]\n"
          ]
        },
        {
          "name": "stdout",
          "output_type": "stream",
          "text": [
            "Extracting ./data/FashionMNIST/raw/train-labels-idx1-ubyte.gz to ./data/FashionMNIST/raw\n",
            "\n",
            "Downloading http://fashion-mnist.s3-website.eu-central-1.amazonaws.com/t10k-images-idx3-ubyte.gz\n",
            "Downloading http://fashion-mnist.s3-website.eu-central-1.amazonaws.com/t10k-images-idx3-ubyte.gz to ./data/FashionMNIST/raw/t10k-images-idx3-ubyte.gz\n"
          ]
        },
        {
          "name": "stderr",
          "output_type": "stream",
          "text": [
            "100%|██████████| 4422102/4422102 [00:01<00:00, 3929081.15it/s]\n"
          ]
        },
        {
          "name": "stdout",
          "output_type": "stream",
          "text": [
            "Extracting ./data/FashionMNIST/raw/t10k-images-idx3-ubyte.gz to ./data/FashionMNIST/raw\n",
            "\n",
            "Downloading http://fashion-mnist.s3-website.eu-central-1.amazonaws.com/t10k-labels-idx1-ubyte.gz\n",
            "Downloading http://fashion-mnist.s3-website.eu-central-1.amazonaws.com/t10k-labels-idx1-ubyte.gz to ./data/FashionMNIST/raw/t10k-labels-idx1-ubyte.gz\n"
          ]
        },
        {
          "name": "stderr",
          "output_type": "stream",
          "text": [
            "100%|██████████| 5148/5148 [00:00<00:00, 4016420.57it/s]\n"
          ]
        },
        {
          "name": "stdout",
          "output_type": "stream",
          "text": [
            "Extracting ./data/FashionMNIST/raw/t10k-labels-idx1-ubyte.gz to ./data/FashionMNIST/raw\n",
            "\n"
          ]
        },
        {
          "data": {
            "image/png": "[encoded data removed]",
            "text/plain": [
              "<Figure size 640x480 with 5 Axes>"
            ]
          },
          "metadata": {},
          "output_type": "display_data"
        }
      ],
      "source": [
        "# NOTE: Inspect your data augmentation\n",
        "def inverse_transform(\n",
        "    img_tensor: torch.Tensor,\n",
        "    ) -> np.ndarray:\n",
        "    \"\"\"Given a preprocessed image tensor, revert the normalization process and\n",
        "    convert the tensor back to a numpy image.\n",
        "    \"\"\"\n",
        "    inv_normalize = Normalize(mean=(-0.5/0.5, ), std=(1/0.5, ))\n",
        "    img_tensor = inv_normalize(img_tensor).permute(1, 2, 0)\n",
        "    img = np.uint8(255 * img_tensor.numpy())\n",
        "    return img\n",
        "\n",
        "# Get some random training images\n",
        "n_imgs = 5\n",
        "dataset = torchvision.datasets.FashionMNIST(root='./data', train=True, download=True, transform=tfm_train)\n",
        "indices = np.random.randint(0, len(dataset), size=(n_imgs, ))\n",
        "\n",
        "# Visualize with matplotlib\n",
        "for i, idx in enumerate(indices):\n",
        "    img_tensor, label = dataset[idx]\n",
        "    img = inverse_transform(img_tensor)\n",
        "    plt.subplot(1, n_imgs, i + 1)\n",
        "    plt.imshow(img, cmap=\"gray\")\n",
        "    plt.title(classes[label])\n",
        "\n",
        "plt.show()"
      ]
    },
    {
      "cell_type": "markdown",
      "metadata": {
        "id": "dZOxiKKwcId_"
      },
      "source": [
        "### Part 2: Vision Transformer\n",
        "**(2 out of 8)** For Part 1, you are to finish the implmentation of ViT, following the discussed lab instructions. Incomplete codes are provided in file `vit_model.py`.\n",
        "\n",
        "A `check_vit.py` test script is provided to inspect the correctness of your implementations. Make sure not to modify any code in the provided test script.\n",
        "\n",
        "Additionally, the code to train a classifier is provided below. If your ViT implementation is correct, a trained model should reach 88% accuracy and above with no issue."
      ]
    },
    {
      "cell_type": "code",
      "execution_count": 8,
      "metadata": {
        "id": "Ddwv85bbcId_"
      },
      "outputs": [],
      "source": [
        "# Train a Classifier\n",
        "# -----\n",
        "\n",
        "def train_classification_model():\n",
        "    # Base ViT\n",
        "    vit_model = ViT(\n",
        "        image_size=image_size,\n",
        "        patch_size=patch_size,\n",
        "        num_channels=in_channels,\n",
        "        hidden_size=hidden_size,\n",
        "        layers=layers,\n",
        "        heads=heads)\n",
        "\n",
        "    # Classifier\n",
        "    model_classifier = ClassificationHead(hidden_size=vit_model.hidden_size, num_classes=num_classes)\n",
        "    if torch.cuda.is_available():\n",
        "        vit_model = vit_model.cuda()\n",
        "        model_classifier = model_classifier.cuda()\n",
        "\n",
        "    # Use cross entropy\n",
        "    criterion = nn.CrossEntropyLoss()\n",
        "\n",
        "    # Specify optimizer\n",
        "    parameters = list(vit_model.parameters()) + list(model_classifier.parameters())\n",
        "    optimizer = torch.optim.AdamW(\n",
        "        parameters,\n",
        "        lr=lr, weight_decay=weight_decay)\n",
        "\n",
        "    # Evaluate at the end of each epoch\n",
        "    best_acc = 0.0\n",
        "\n",
        "    for epoch in range(num_epochs):\n",
        "        for i, (x, labels) in enumerate(train_loader):\n",
        "            vit_model.train()\n",
        "            model_classifier.train()\n",
        "\n",
        "            if torch.cuda.is_available():\n",
        "                x = x.cuda()\n",
        "                labels = labels.cuda()\n",
        "\n",
        "            # Forward pass\n",
        "            feats = vit_model(x)\n",
        "            outputs = model_classifier(feats)\n",
        "            loss = criterion(outputs, labels)\n",
        "\n",
        "            # Backward and optimize\n",
        "            optimizer.zero_grad()\n",
        "            loss.backward()\n",
        "            optimizer.step()\n",
        "\n",
        "            # NOTE: Show train loss at the end of epoch\n",
        "            # Feel free to modify this to log more steps\n",
        "            if (i+1) % len(train_loader) == 0:\n",
        "                print ('Epoch [{}/{}], Step [{}/{}], Loss: {:.4f}'\n",
        "                    .format(epoch+1, num_epochs, i+1, len(train_loader), loss.item()))\n",
        "\n",
        "        # Evaluate at the end\n",
        "        test_acc = test_classification_model(vit_model, model_classifier)\n",
        "        if test_acc > best_acc:\n",
        "            best_acc = test_acc\n",
        "            state_dict = {\n",
        "                \"classifier\": model_classifier.state_dict(),\n",
        "                \"vit\": vit_model.state_dict(),\n",
        "                \"acc\": best_acc,\n",
        "            }\n",
        "            torch.save(state_dict, \"vit_classifier.pt\")\n",
        "            print(\"Best test acc:\", best_acc)\n",
        "        print()\n",
        "\n",
        "def test_classification_model(\n",
        "    vit_model: nn.Module,\n",
        "    model_classifier: nn.Module,\n",
        "    ):\n",
        "    # Test the model\n",
        "    vit_model.eval()\n",
        "    model_classifier.eval()  # eval mode (batchnorm uses moving mean/variance instead of mini-batch mean/variance)\n",
        "    with torch.no_grad():\n",
        "        correct = 0\n",
        "        total = 0\n",
        "        for images, labels in test_loader:\n",
        "            if torch.cuda.is_available():\n",
        "                images = images.cuda()\n",
        "                labels = labels.cuda()\n",
        "            feats = vit_model(images)\n",
        "            outputs = model_classifier(feats)\n",
        "            _, predicted = torch.max(outputs.data, 1)\n",
        "            total += labels.size(0)\n",
        "            correct += (predicted == labels).sum().item()\n",
        "        print('Test Accuracy: {} %'.format(100 * correct / total))\n",
        "    return correct / total"
      ]
    },
    {
      "cell_type": "code",
      "execution_count": null,
      "metadata": {
        "id": "u8CjHHTucId_"
      },
      "outputs": [],
      "source": [
        "\n",
        " # NOTE: Uncomment this to test your ViT implementation\n",
        "\n",
        "# train_dataset = torchvision.datasets.FashionMNIST(root='./data', train=True, download=True, transform=tfm_train)\n",
        "# test_dataset = torchvision.datasets.FashionMNIST(root='./data', train=False, download=True, transform=tfm_test)\n",
        "\n",
        "# train_loader = torch.utils.data.DataLoader(train_dataset, batch_size=batch_size, shuffle=True, num_workers=2)\n",
        "# test_loader = torch.utils.data.DataLoader(test_dataset, batch_size=batch_size, shuffle=False, num_workers=2)\n",
        "\n",
        "# train_classification_model()\n",
        "\n",
        "# del train_dataset\n",
        "# del test_dataset"
      ]
    },
    {
      "cell_type": "markdown",
      "metadata": {
        "id": "cVxcZ1rbcId_"
      },
      "source": [
        "### Part 3: Contrastive Representation Learning\n",
        "In this part, you are to use [PyTorch-Metric-Learning](https://github.com/KevinMusgrave/pytorch-metric-learning) to implement triplet loss and learn an embedding representation model with ViT. Quick tutorials and notebooks are available in the repo.\n",
        "\n",
        "However, only a subset of data from the FashionMNIST training set (around 1/12) will be used to train the model. The code to subsample the full train dataset is provided in `sample_balanced_subset`. You must not modfiy the code in that block.\n",
        "\n",
        "To pass this part, you are to reach **60%** and above in Precision@1 metric scoring on the full FashionMNIST test dataset with your trained embedding model. The final model must be submitted along with your notebook with logging outputs. The test function is provided in `evaluate_at_end_epoch`.\n",
        "\n",
        "Furthermore, you are required to employ one of the learning rate schedulers, like [MultiStepLR](https://pytorch.org/docs/stable/generated/torch.optim.lr_scheduler.MultiStepLR.html#torch.optim.lr_scheduler.MultiStepLR), [Consine Annealing LR](https://pytorch.org/docs/stable/generated/torch.optim.lr_scheduler.CosineAnnealingLR.html#torch.optim.lr_scheduler.CosineAnnealingLR). Or you can implement your own learning rate adjusting strategy, as a function to training iteration or epoch, using [LambdaLR](https://pytorch.org/docs/stable/generated/torch.optim.lr_scheduler.LambdaLR.html#torch.optim.lr_scheduler.LambdaLR). The marking is distributed as follows:\n",
        "\n",
        "- (2 out of 8) Complete `train_embedding_model`. Add your selected learning rate scheduler, and train your embedding model\n",
        "- (0.5 out of 8) Complete `get_embeddings` to correctly perform inference with your embedding model.\n",
        "- (1 out of 8) Attach the notebook with full training logs (do not clear your notebook outputs when finished running), and your trained model file with **60%** and above in Precision@1 metric scoring, as `vit_embeds.pt`."
      ]
    },
    {
      "cell_type": "code",
      "execution_count": 10,
      "metadata": {
        "colab": {
          "base_uri": "https://localhost:8080/"
        },
        "id": "_8lNxxXUcIeA",
        "outputId": "7a5c7f35-825f-4f7f-be7c-7c57ae4e1014"
      },
      "outputs": [
        {
          "name": "stdout",
          "output_type": "stream",
          "text": [
            "Num. samples in subset: 5000\n"
          ]
        }
      ],
      "source": [
        "# Sample a subset of training dataset\n",
        "# NOTE: sample an even number of samples per class\n",
        "# To migrate the problem of [class imbalancing]\n",
        "# (https://developers.google.com/machine-learning/data-prep/construct/sampling-splitting/imbalanced-data).\n",
        "def sample_balanced_subset(\n",
        "    train_dataset,\n",
        "    n_samples_per_class: int = 50,\n",
        "    n_classes: int = 10\n",
        "    ):\n",
        "    maps = {i: [] for i in range(n_classes)}\n",
        "    for idx, (_, cls_idx) in enumerate(train_dataset):\n",
        "        if len(maps[cls_idx]) < n_samples_per_class:\n",
        "            maps[cls_idx].append(idx)\n",
        "\n",
        "    indices = []\n",
        "    for _, ind in maps.items():\n",
        "        indices += ind\n",
        "\n",
        "    train_subset = torch.utils.data.Subset(train_dataset, indices)\n",
        "    print(\"Num. samples in subset:\", len(train_subset))\n",
        "    return train_subset\n",
        "\n",
        "# Subsample a small subset from the full train dataset\n",
        "full_train_dataset = torchvision.datasets.FashionMNIST(root='./data', train=True, download=True, transform=tfm_train)\n",
        "train_dataset = sample_balanced_subset(full_train_dataset, n_samples_per_class=500)      # DO NOT MODIFY THIS CODE\n",
        "\n",
        "# Full test set will still be used for testing\n",
        "test_dataset = torchvision.datasets.FashionMNIST(root='./data', train=False, download=True, transform=tfm_test)"
      ]
    },
    {
      "cell_type": "code",
      "execution_count": 11,
      "metadata": {
        "id": "_SlDIV0gcIeA"
      },
      "outputs": [],
      "source": [
        "# Train an embedding model\n",
        "# -----\n",
        "\n",
        "def train_embedding_model(\n",
        "    train_dataset,\n",
        "    test_dataset,\n",
        "    ):\n",
        "    #########################\n",
        "    # Finish Your Code HERE\n",
        "    # #########################\n",
        "\n",
        "    # Dataloader\n",
        "    train_loader = torch.utils.data.DataLoader(train_dataset, batch_size=batch_size, shuffle=True, num_workers=2)\n",
        "\n",
        "    # Evaluate model per epoch, and keep track of the model performance at that time\n",
        "    best_prec = 0.0\n",
        "\n",
        "    # Triplet Loss with Semi-hard triples & l2 distance\n",
        "    # -------------------\n",
        "    # TODO: Specify distance, objective function (triplet loss), and your miner to sample triplet pairs\n",
        "\n",
        "    # distance = distances.LpDistance(normalize_embeddings = True)\n",
        "    distance = distances.LpDistance(p=2)\n",
        "    criterion = losses.TripletMarginLoss(margin=0.2, distance=distance)\n",
        "    miner = miners.TripletMarginMiner(type_of_triplets= \"semihard\")        # Make sure to use \"semihard\" triplets\n",
        "\n",
        "    # -------------------\n",
        "\n",
        "    # Precision to test embedding quality\n",
        "    accuracy_calculator = AccuracyCalculator(include=(\"precision_at_1\",), k=1)\n",
        "\n",
        "    # Models to train\n",
        "    # -------------------\n",
        "    # TODO: Specify your model(s) correctly here\n",
        "    # Don't forget to send them to cuda/gpu\n",
        "    vit_model = vit_model = ViT(\n",
        "        image_size=image_size,\n",
        "        patch_size=patch_size,\n",
        "        num_channels=in_channels,\n",
        "        hidden_size=hidden_size,\n",
        "        layers=layers,\n",
        "        heads=heads)\n",
        "\n",
        "    model_embedding = LinearEmbeddingHead(hidden_size=hidden_size,embed_size=embed_size)\n",
        "\n",
        "    if torch.cuda.is_available():\n",
        "        vit_model = vit_model.cuda()\n",
        "        model_embedding = model_embedding.cuda()\n",
        "\n",
        "    # -------------------\n",
        "\n",
        "    # Specify optimizer\n",
        "    # -------------------\n",
        "    parameters = list(vit_model.parameters()) + list(model_embedding.parameters())       # TODO: correctly specify the trainable parameters here\n",
        "\n",
        "    optimizer = optim.Adam(parameters, lr=0.001)        # TODO: Specify your optimizer\n",
        "\n",
        "    # Milestones = [5,7] has been selected as learning rate will be reduced by 0.1 at 5th and 7th epochs.\n",
        "    scheduler = optim.lr_scheduler.MultiStepLR(optimizer, milestones=[5,7], gamma=0.1)        # TODO: Specify your LR scheduler\n",
        "\n",
        "    # -------------------\n",
        "\n",
        "    # Train loop\n",
        "    for epoch in range(num_epochs):\n",
        "        for i, (x, labels) in enumerate(train_loader):\n",
        "            vit_model.train()\n",
        "            model_embedding.train()\n",
        "\n",
        "            if torch.cuda.is_available():\n",
        "                x = x.cuda()\n",
        "                labels = labels.cuda()\n",
        "\n",
        "            # Forward pass\n",
        "            # -------------------\n",
        "            # TODO: Implement forward and backward pass\n",
        "            # TODO: Correctly update your LR with your selected LR scheduler\n",
        "            embeddings = model_embedding(vit_model(x))\n",
        "            loss = criterion(embeddings, labels)\n",
        "\n",
        "            optimizer.zero_grad()\n",
        "            loss.backward()\n",
        "            optimizer.step()\n",
        "\n",
        "            scheduler.step()\n",
        "\n",
        "\n",
        "            # -------------------\n",
        "\n",
        "            # NOTE: Show train loss at the end of epoch\n",
        "            # Feel free to modify this to log more steps\n",
        "            if (i+1) % len(train_loader) == 0:\n",
        "                print ('Epoch [{}/{}], Step [{}/{}], Loss: {:.4f}'\n",
        "                    .format(epoch+1, num_epochs, i+1, len(train_loader), loss.item()))\n",
        "\n",
        "        # Evaluate at the end\n",
        "        best_prec = evaluate_at_end_epoch(vit_model, model_embedding, accuracy_calculator, best_prec, train_dataset, test_dataset)\n",
        "\n",
        "    # #########################\n",
        "\n",
        "def get_embeddings(\n",
        "    x: torch.Tensor,\n",
        "    vit_model: nn.Module,\n",
        "    model_embedding: nn.Module,\n",
        "    ) -> torch.Tensor:\n",
        "    \"\"\"Calculate embeddings for a batch of images.\n",
        "    \"\"\"\n",
        "    #########################\n",
        "    # Finish Your Code HERE\n",
        "    # #########################\n",
        "    # TODO: Correctly calculate x_embeds for a batch of\n",
        "    # images x with shape (batch_size, 3, h, w)\n",
        "\n",
        "    vit_model.eval()\n",
        "    model_embedding.eval()\n",
        "    if torch.cuda.is_available():\n",
        "      x = x.cuda()\n",
        "\n",
        "    with torch.no_grad():\n",
        "      x_embeds = model_embedding(vit_model(x))\n",
        "    #########################\n",
        "\n",
        "    x_embeds = x_embeds.cpu()   # Cast to CPU\n",
        "    x_embeds = torch.nn.functional.normalize(x_embeds, p=2, dim=1)      # Extra Step: Normalize the embeddings\n",
        "    return x_embeds\n",
        "\n",
        "def get_embeddings_over_dataset(\n",
        "    dataset,\n",
        "    vit_model: nn.Module,\n",
        "    model_embedding: nn.Module,\n",
        "    ):\n",
        "    \"\"\"Loop through a full dataset and return all embeddings.\n",
        "    \"\"\"\n",
        "    # Create a loader on the go\n",
        "    loader = torch.utils.data.DataLoader(dataset, batch_size=batch_size, shuffle=False, num_workers=2)\n",
        "\n",
        "    X_embeds, Y = [], []\n",
        "    for i, (x, y) in enumerate(tqdm.tqdm(loader)):\n",
        "        x_embeds = get_embeddings(x, vit_model, model_embedding)\n",
        "        X_embeds.append(x_embeds)\n",
        "        Y.append(y)\n",
        "\n",
        "    X_embeds = torch.cat(X_embeds, dim=0)\n",
        "    Y = torch.cat(Y, dim=0)\n",
        "    return X_embeds, Y\n",
        "\n",
        "def test_embedding_model(\n",
        "    vit_model: nn.Module,\n",
        "    model_embedding: nn.Module,\n",
        "    accuracy_calculator,\n",
        "    train_dataset,\n",
        "    test_dataset,\n",
        "    ):\n",
        "    # Test the model\n",
        "    model_embedding.eval()\n",
        "\n",
        "    X_embeds, Y = get_embeddings_over_dataset(train_dataset, vit_model, model_embedding)\n",
        "    X_embeds_test, Y_test = get_embeddings_over_dataset(test_dataset, vit_model, model_embedding)\n",
        "    accuracies = accuracy_calculator.get_accuracy(\n",
        "        X_embeds_test, Y_test, X_embeds, Y, False\n",
        "    )\n",
        "    return accuracies[\"precision_at_1\"]\n",
        "\n",
        "def evaluate_at_end_epoch(\n",
        "    vit_model: nn.Module,\n",
        "    model_embedding: nn.Module,\n",
        "    accuracy_calculator,\n",
        "    best_prec: float,\n",
        "    train_dataset,\n",
        "    test_dataset,\n",
        "    ):\n",
        "    # Evaluate at the end\n",
        "    prec = test_embedding_model(vit_model, model_embedding, accuracy_calculator, train_dataset, test_dataset)\n",
        "    if prec > best_prec:\n",
        "        best_prec = prec\n",
        "        state_dict = {\n",
        "            \"embedding_head\": model_embedding.state_dict(),\n",
        "            \"vit\": vit_model.state_dict(),\n",
        "            \"precision@1\": prec,\n",
        "        }\n",
        "        torch.save(state_dict, \"vit_embeds.pt\")\n",
        "        print(\"Best Precision@1:\", best_prec)\n",
        "    print()\n",
        "    return best_prec\n"
      ]
    },
    {
      "cell_type": "code",
      "execution_count": 12,
      "metadata": {
        "colab": {
          "base_uri": "https://localhost:8080/"
        },
        "id": "9FnZPTY80_F9",
        "outputId": "2f7e04b0-c29f-4c10-ca21-ccfece99e724"
      },
      "outputs": [
        {
          "name": "stdout",
          "output_type": "stream",
          "text": [
            "Epoch [1/50], Step [200/200], Loss: 0.1487\n"
          ]
        },
        {
          "name": "stderr",
          "output_type": "stream",
          "text": [
            "100%|██████████| 200/200 [00:03<00:00, 55.27it/s]\n",
            "100%|██████████| 400/400 [00:05<00:00, 75.93it/s]\n"
          ]
        },
        {
          "name": "stdout",
          "output_type": "stream",
          "text": [
            "Best Precision@1: 0.6653\n",
            "\n"
          ]
        },
        {
          "name": "stderr",
          "output_type": "stream",
          "text": [
            "/usr/local/lib/python3.10/dist-packages/faiss/contrib/torch_utils.py:51: UserWarning: TypedStorage is deprecated. It will be removed in the future and UntypedStorage will be the only storage class. This should only matter to you if you are using storages directly.  To access UntypedStorage directly, use tensor.untyped_storage() instead of tensor.storage()\n",
            "  x.storage().data_ptr() + x.storage_offset() * 4)\n"
          ]
        },
        {
          "name": "stdout",
          "output_type": "stream",
          "text": [
            "Epoch [2/50], Step [200/200], Loss: 0.1843\n"
          ]
        },
        {
          "name": "stderr",
          "output_type": "stream",
          "text": [
            "100%|██████████| 200/200 [00:03<00:00, 51.33it/s]\n",
            "100%|██████████| 400/400 [00:04<00:00, 83.50it/s]\n"
          ]
        },
        {
          "name": "stdout",
          "output_type": "stream",
          "text": [
            "Best Precision@1: 0.6837000000000001\n",
            "\n",
            "Epoch [3/50], Step [200/200], Loss: 0.1922\n"
          ]
        },
        {
          "name": "stderr",
          "output_type": "stream",
          "text": [
            "100%|██████████| 200/200 [00:03<00:00, 57.06it/s]\n",
            "100%|██████████| 400/400 [00:04<00:00, 82.51it/s]\n"
          ]
        },
        {
          "name": "stdout",
          "output_type": "stream",
          "text": [
            "Best Precision@1: 0.6910000000000001\n",
            "\n",
            "Epoch [4/50], Step [200/200], Loss: 0.1505\n"
          ]
        },
        {
          "name": "stderr",
          "output_type": "stream",
          "text": [
            "100%|██████████| 200/200 [00:02<00:00, 69.34it/s]\n",
            "100%|██████████| 400/400 [00:04<00:00, 81.95it/s]\n"
          ]
        },
        {
          "name": "stdout",
          "output_type": "stream",
          "text": [
            "Best Precision@1: 0.6953\n",
            "\n",
            "Epoch [5/50], Step [200/200], Loss: 0.1763\n"
          ]
        },
        {
          "name": "stderr",
          "output_type": "stream",
          "text": [
            "100%|██████████| 200/200 [00:03<00:00, 65.57it/s]\n",
            "100%|██████████| 400/400 [00:05<00:00, 70.37it/s]\n"
          ]
        },
        {
          "name": "stdout",
          "output_type": "stream",
          "text": [
            "Best Precision@1: 0.6973\n",
            "\n",
            "Epoch [6/50], Step [200/200], Loss: 0.1839\n"
          ]
        },
        {
          "name": "stderr",
          "output_type": "stream",
          "text": [
            "100%|██████████| 200/200 [00:02<00:00, 67.98it/s]\n",
            "100%|██████████| 400/400 [00:06<00:00, 66.65it/s]\n"
          ]
        },
        {
          "name": "stdout",
          "output_type": "stream",
          "text": [
            "Best Precision@1: 0.6986\n",
            "\n",
            "Epoch [7/50], Step [200/200], Loss: 0.1526\n"
          ]
        },
        {
          "name": "stderr",
          "output_type": "stream",
          "text": [
            "100%|██████████| 200/200 [00:03<00:00, 57.48it/s]\n",
            "100%|██████████| 400/400 [00:06<00:00, 57.25it/s]\n"
          ]
        },
        {
          "name": "stdout",
          "output_type": "stream",
          "text": [
            "Best Precision@1: 0.7052\n",
            "\n",
            "Epoch [8/50], Step [200/200], Loss: 0.1995\n"
          ]
        },
        {
          "name": "stderr",
          "output_type": "stream",
          "text": [
            "100%|██████████| 200/200 [00:05<00:00, 35.42it/s]\n",
            "100%|██████████| 400/400 [00:13<00:00, 30.73it/s]\n"
          ]
        },
        {
          "name": "stdout",
          "output_type": "stream",
          "text": [
            "Best Precision@1: 0.7142000000000001\n",
            "\n",
            "Epoch [9/50], Step [200/200], Loss: 0.1763\n"
          ]
        },
        {
          "name": "stderr",
          "output_type": "stream",
          "text": [
            "100%|██████████| 200/200 [00:03<00:00, 50.38it/s]\n",
            "100%|██████████| 400/400 [00:04<00:00, 80.03it/s]\n"
          ]
        },
        {
          "name": "stdout",
          "output_type": "stream",
          "text": [
            "Best Precision@1: 0.7147\n",
            "\n",
            "Epoch [10/50], Step [200/200], Loss: 0.2063\n"
          ]
        },
        {
          "name": "stderr",
          "output_type": "stream",
          "text": [
            "100%|██████████| 200/200 [00:03<00:00, 66.23it/s]\n",
            "100%|██████████| 400/400 [00:04<00:00, 81.94it/s]\n"
          ]
        },
        {
          "name": "stdout",
          "output_type": "stream",
          "text": [
            "Best Precision@1: 0.7172000000000001\n",
            "\n",
            "Epoch [11/50], Step [200/200], Loss: 0.1814\n"
          ]
        },
        {
          "name": "stderr",
          "output_type": "stream",
          "text": [
            "100%|██████████| 200/200 [00:02<00:00, 68.73it/s]\n",
            "100%|██████████| 400/400 [00:04<00:00, 82.66it/s]\n"
          ]
        },
        {
          "name": "stdout",
          "output_type": "stream",
          "text": [
            "Best Precision@1: 0.7222000000000001\n",
            "\n",
            "Epoch [12/50], Step [200/200], Loss: 0.1886\n"
          ]
        },
        {
          "name": "stderr",
          "output_type": "stream",
          "text": [
            "100%|██████████| 200/200 [00:03<00:00, 66.38it/s]\n",
            "100%|██████████| 400/400 [00:05<00:00, 74.92it/s]\n"
          ]
        },
        {
          "name": "stdout",
          "output_type": "stream",
          "text": [
            "Best Precision@1: 0.7297\n",
            "\n",
            "Epoch [13/50], Step [200/200], Loss: 0.1938\n"
          ]
        },
        {
          "name": "stderr",
          "output_type": "stream",
          "text": [
            "100%|██████████| 200/200 [00:02<00:00, 66.95it/s]\n",
            "100%|██████████| 400/400 [00:05<00:00, 69.09it/s]\n"
          ]
        },
        {
          "name": "stdout",
          "output_type": "stream",
          "text": [
            "Best Precision@1: 0.733\n",
            "\n",
            "Epoch [14/50], Step [200/200], Loss: 0.2280\n"
          ]
        },
        {
          "name": "stderr",
          "output_type": "stream",
          "text": [
            "100%|██████████| 200/200 [00:02<00:00, 67.21it/s]\n",
            "100%|██████████| 400/400 [00:05<00:00, 68.12it/s]\n"
          ]
        },
        {
          "name": "stdout",
          "output_type": "stream",
          "text": [
            "\n",
            "Epoch [15/50], Step [200/200], Loss: 0.1876\n"
          ]
        },
        {
          "name": "stderr",
          "output_type": "stream",
          "text": [
            "100%|██████████| 200/200 [00:02<00:00, 68.35it/s]\n",
            "100%|██████████| 400/400 [00:05<00:00, 67.40it/s]\n"
          ]
        },
        {
          "name": "stdout",
          "output_type": "stream",
          "text": [
            "Best Precision@1: 0.7381000000000001\n",
            "\n",
            "Epoch [16/50], Step [200/200], Loss: 0.1873\n"
          ]
        },
        {
          "name": "stderr",
          "output_type": "stream",
          "text": [
            "100%|██████████| 200/200 [00:03<00:00, 53.94it/s]\n",
            "100%|██████████| 400/400 [00:05<00:00, 69.62it/s]\n"
          ]
        },
        {
          "name": "stdout",
          "output_type": "stream",
          "text": [
            "Best Precision@1: 0.7424000000000001\n",
            "\n",
            "Epoch [17/50], Step [200/200], Loss: 0.2067\n"
          ]
        },
        {
          "name": "stderr",
          "output_type": "stream",
          "text": [
            "100%|██████████| 200/200 [00:03<00:00, 52.18it/s]\n",
            "100%|██████████| 400/400 [00:04<00:00, 81.40it/s]\n"
          ]
        },
        {
          "name": "stdout",
          "output_type": "stream",
          "text": [
            "Best Precision@1: 0.7485\n",
            "\n",
            "Epoch [18/50], Step [200/200], Loss: 0.2391\n"
          ]
        },
        {
          "name": "stderr",
          "output_type": "stream",
          "text": [
            "100%|██████████| 200/200 [00:03<00:00, 63.04it/s]\n",
            "100%|██████████| 400/400 [00:04<00:00, 80.85it/s]\n"
          ]
        },
        {
          "name": "stdout",
          "output_type": "stream",
          "text": [
            "\n",
            "Epoch [19/50], Step [200/200], Loss: 0.2128\n"
          ]
        },
        {
          "name": "stderr",
          "output_type": "stream",
          "text": [
            "100%|██████████| 200/200 [00:02<00:00, 67.08it/s]\n",
            "100%|██████████| 400/400 [00:04<00:00, 81.63it/s]\n"
          ]
        },
        {
          "name": "stdout",
          "output_type": "stream",
          "text": [
            "\n",
            "Epoch [20/50], Step [200/200], Loss: 0.2420\n"
          ]
        },
        {
          "name": "stderr",
          "output_type": "stream",
          "text": [
            "100%|██████████| 200/200 [00:02<00:00, 67.49it/s]\n",
            "100%|██████████| 400/400 [00:05<00:00, 72.15it/s]\n"
          ]
        },
        {
          "name": "stdout",
          "output_type": "stream",
          "text": [
            "Best Precision@1: 0.7527\n",
            "\n",
            "Epoch [21/50], Step [200/200], Loss: 0.1829\n"
          ]
        },
        {
          "name": "stderr",
          "output_type": "stream",
          "text": [
            "100%|██████████| 200/200 [00:03<00:00, 66.54it/s]\n",
            "100%|██████████| 400/400 [00:05<00:00, 68.44it/s]\n"
          ]
        },
        {
          "name": "stdout",
          "output_type": "stream",
          "text": [
            "\n",
            "Epoch [22/50], Step [200/200], Loss: 0.1521\n"
          ]
        },
        {
          "name": "stderr",
          "output_type": "stream",
          "text": [
            "100%|██████████| 200/200 [00:02<00:00, 68.83it/s]\n",
            "100%|██████████| 400/400 [00:05<00:00, 68.22it/s]\n"
          ]
        },
        {
          "name": "stdout",
          "output_type": "stream",
          "text": [
            "Best Precision@1: 0.7573000000000001\n",
            "\n",
            "Epoch [23/50], Step [200/200], Loss: 0.1715\n"
          ]
        },
        {
          "name": "stderr",
          "output_type": "stream",
          "text": [
            "100%|██████████| 200/200 [00:03<00:00, 64.54it/s]\n",
            "100%|██████████| 400/400 [00:05<00:00, 70.08it/s]\n"
          ]
        },
        {
          "name": "stdout",
          "output_type": "stream",
          "text": [
            "Best Precision@1: 0.7593000000000001\n",
            "\n",
            "Epoch [24/50], Step [200/200], Loss: 0.1900\n"
          ]
        },
        {
          "name": "stderr",
          "output_type": "stream",
          "text": [
            "100%|██████████| 200/200 [00:03<00:00, 51.58it/s]\n",
            "100%|██████████| 400/400 [00:05<00:00, 79.69it/s]\n"
          ]
        },
        {
          "name": "stdout",
          "output_type": "stream",
          "text": [
            "Best Precision@1: 0.7603000000000001\n",
            "\n",
            "Epoch [25/50], Step [200/200], Loss: 0.1719\n"
          ]
        },
        {
          "name": "stderr",
          "output_type": "stream",
          "text": [
            "100%|██████████| 200/200 [00:03<00:00, 52.47it/s]\n",
            "100%|██████████| 400/400 [00:04<00:00, 81.06it/s]\n"
          ]
        },
        {
          "name": "stdout",
          "output_type": "stream",
          "text": [
            "\n",
            "Epoch [26/50], Step [200/200], Loss: 0.1909\n"
          ]
        },
        {
          "name": "stderr",
          "output_type": "stream",
          "text": [
            "100%|██████████| 200/200 [00:03<00:00, 65.89it/s]\n",
            "100%|██████████| 400/400 [00:04<00:00, 81.75it/s]\n"
          ]
        },
        {
          "name": "stdout",
          "output_type": "stream",
          "text": [
            "Best Precision@1: 0.7658\n",
            "\n",
            "Epoch [27/50], Step [200/200], Loss: 0.1341\n"
          ]
        },
        {
          "name": "stderr",
          "output_type": "stream",
          "text": [
            "100%|██████████| 200/200 [00:03<00:00, 59.90it/s]\n",
            "100%|██████████| 400/400 [00:04<00:00, 81.27it/s]\n"
          ]
        },
        {
          "name": "stdout",
          "output_type": "stream",
          "text": [
            "\n",
            "Epoch [28/50], Step [200/200], Loss: 0.2250\n"
          ]
        },
        {
          "name": "stderr",
          "output_type": "stream",
          "text": [
            "100%|██████████| 200/200 [00:02<00:00, 67.16it/s]\n",
            "100%|██████████| 400/400 [00:05<00:00, 69.92it/s]\n"
          ]
        },
        {
          "name": "stdout",
          "output_type": "stream",
          "text": [
            "\n",
            "Epoch [29/50], Step [200/200], Loss: 0.2259\n"
          ]
        },
        {
          "name": "stderr",
          "output_type": "stream",
          "text": [
            "100%|██████████| 200/200 [00:02<00:00, 69.03it/s]\n",
            "100%|██████████| 400/400 [00:05<00:00, 67.63it/s]\n"
          ]
        },
        {
          "name": "stdout",
          "output_type": "stream",
          "text": [
            "Best Precision@1: 0.766\n",
            "\n",
            "Epoch [30/50], Step [200/200], Loss: 0.1273\n"
          ]
        },
        {
          "name": "stderr",
          "output_type": "stream",
          "text": [
            "100%|██████████| 200/200 [00:02<00:00, 69.49it/s]\n",
            "100%|██████████| 400/400 [00:05<00:00, 68.05it/s]\n"
          ]
        },
        {
          "name": "stdout",
          "output_type": "stream",
          "text": [
            "Best Precision@1: 0.7663000000000001\n",
            "\n",
            "Epoch [31/50], Step [200/200], Loss: 0.2866\n"
          ]
        },
        {
          "name": "stderr",
          "output_type": "stream",
          "text": [
            "100%|██████████| 200/200 [00:03<00:00, 59.37it/s]\n",
            "100%|██████████| 400/400 [00:05<00:00, 72.11it/s]\n"
          ]
        },
        {
          "name": "stdout",
          "output_type": "stream",
          "text": [
            "Best Precision@1: 0.7692\n",
            "\n",
            "Epoch [32/50], Step [200/200], Loss: 0.2429\n"
          ]
        },
        {
          "name": "stderr",
          "output_type": "stream",
          "text": [
            "100%|██████████| 200/200 [00:04<00:00, 49.81it/s]\n",
            "100%|██████████| 400/400 [00:04<00:00, 80.58it/s]\n"
          ]
        },
        {
          "name": "stdout",
          "output_type": "stream",
          "text": [
            "\n",
            "Epoch [33/50], Step [200/200], Loss: 0.2462\n"
          ]
        },
        {
          "name": "stderr",
          "output_type": "stream",
          "text": [
            "100%|██████████| 200/200 [00:03<00:00, 57.15it/s]\n",
            "100%|██████████| 400/400 [00:04<00:00, 81.61it/s]\n"
          ]
        },
        {
          "name": "stdout",
          "output_type": "stream",
          "text": [
            "\n",
            "Epoch [34/50], Step [200/200], Loss: 0.1642\n"
          ]
        },
        {
          "name": "stderr",
          "output_type": "stream",
          "text": [
            "100%|██████████| 200/200 [00:02<00:00, 69.67it/s]\n",
            "100%|██████████| 400/400 [00:04<00:00, 81.95it/s]\n"
          ]
        },
        {
          "name": "stdout",
          "output_type": "stream",
          "text": [
            "\n",
            "Epoch [35/50], Step [200/200], Loss: 0.2088\n"
          ]
        },
        {
          "name": "stderr",
          "output_type": "stream",
          "text": [
            "100%|██████████| 200/200 [00:02<00:00, 68.65it/s]\n",
            "100%|██████████| 400/400 [00:04<00:00, 81.18it/s]\n"
          ]
        },
        {
          "name": "stdout",
          "output_type": "stream",
          "text": [
            "\n",
            "Epoch [36/50], Step [200/200], Loss: 0.2361\n"
          ]
        },
        {
          "name": "stderr",
          "output_type": "stream",
          "text": [
            "100%|██████████| 200/200 [00:02<00:00, 68.08it/s]\n",
            "100%|██████████| 400/400 [00:05<00:00, 70.30it/s]\n"
          ]
        },
        {
          "name": "stdout",
          "output_type": "stream",
          "text": [
            "\n",
            "Epoch [37/50], Step [200/200], Loss: 0.2034\n"
          ]
        },
        {
          "name": "stderr",
          "output_type": "stream",
          "text": [
            "100%|██████████| 200/200 [00:03<00:00, 63.08it/s]\n",
            "100%|██████████| 400/400 [00:05<00:00, 68.67it/s]\n"
          ]
        },
        {
          "name": "stdout",
          "output_type": "stream",
          "text": [
            "Best Precision@1: 0.7726000000000001\n",
            "\n",
            "Epoch [38/50], Step [200/200], Loss: 0.2606\n"
          ]
        },
        {
          "name": "stderr",
          "output_type": "stream",
          "text": [
            "100%|██████████| 200/200 [00:03<00:00, 66.40it/s]\n",
            "100%|██████████| 400/400 [00:05<00:00, 68.33it/s]\n"
          ]
        },
        {
          "name": "stdout",
          "output_type": "stream",
          "text": [
            "\n",
            "Epoch [39/50], Step [200/200], Loss: 0.2410\n"
          ]
        },
        {
          "name": "stderr",
          "output_type": "stream",
          "text": [
            "100%|██████████| 200/200 [00:03<00:00, 61.12it/s]\n",
            "100%|██████████| 400/400 [00:05<00:00, 72.94it/s]\n"
          ]
        },
        {
          "name": "stdout",
          "output_type": "stream",
          "text": [
            "\n",
            "Epoch [40/50], Step [200/200], Loss: 0.1778\n"
          ]
        },
        {
          "name": "stderr",
          "output_type": "stream",
          "text": [
            "100%|██████████| 200/200 [00:03<00:00, 50.12it/s]\n",
            "100%|██████████| 400/400 [00:04<00:00, 82.58it/s]\n"
          ]
        },
        {
          "name": "stdout",
          "output_type": "stream",
          "text": [
            "\n",
            "Epoch [41/50], Step [200/200], Loss: 0.2112\n"
          ]
        },
        {
          "name": "stderr",
          "output_type": "stream",
          "text": [
            "100%|██████████| 200/200 [00:03<00:00, 53.87it/s]\n",
            "100%|██████████| 400/400 [00:04<00:00, 81.07it/s]\n"
          ]
        },
        {
          "name": "stdout",
          "output_type": "stream",
          "text": [
            "Best Precision@1: 0.7749\n",
            "\n",
            "Epoch [42/50], Step [200/200], Loss: 0.2016\n"
          ]
        },
        {
          "name": "stderr",
          "output_type": "stream",
          "text": [
            "100%|██████████| 200/200 [00:02<00:00, 69.23it/s]\n",
            "100%|██████████| 400/400 [00:04<00:00, 81.93it/s]\n"
          ]
        },
        {
          "name": "stdout",
          "output_type": "stream",
          "text": [
            "\n",
            "Epoch [43/50], Step [200/200], Loss: 0.2109\n"
          ]
        },
        {
          "name": "stderr",
          "output_type": "stream",
          "text": [
            "100%|██████████| 200/200 [00:02<00:00, 68.97it/s]\n",
            "100%|██████████| 400/400 [00:04<00:00, 82.62it/s]\n"
          ]
        },
        {
          "name": "stdout",
          "output_type": "stream",
          "text": [
            "\n",
            "Epoch [44/50], Step [200/200], Loss: 0.2000\n"
          ]
        },
        {
          "name": "stderr",
          "output_type": "stream",
          "text": [
            "100%|██████████| 200/200 [00:02<00:00, 67.90it/s]\n",
            "100%|██████████| 400/400 [00:05<00:00, 75.98it/s]\n"
          ]
        },
        {
          "name": "stdout",
          "output_type": "stream",
          "text": [
            "\n",
            "Epoch [45/50], Step [200/200], Loss: 0.1768\n"
          ]
        },
        {
          "name": "stderr",
          "output_type": "stream",
          "text": [
            "100%|██████████| 200/200 [00:03<00:00, 65.89it/s]\n",
            "100%|██████████| 400/400 [00:05<00:00, 68.62it/s]\n"
          ]
        },
        {
          "name": "stdout",
          "output_type": "stream",
          "text": [
            "\n",
            "Epoch [46/50], Step [200/200], Loss: 0.1966\n"
          ]
        },
        {
          "name": "stderr",
          "output_type": "stream",
          "text": [
            "100%|██████████| 200/200 [00:02<00:00, 68.65it/s]\n",
            "100%|██████████| 400/400 [00:06<00:00, 65.48it/s]\n"
          ]
        },
        {
          "name": "stdout",
          "output_type": "stream",
          "text": [
            "Best Precision@1: 0.7757000000000001\n",
            "\n",
            "Epoch [47/50], Step [200/200], Loss: 0.1957\n"
          ]
        },
        {
          "name": "stderr",
          "output_type": "stream",
          "text": [
            "100%|██████████| 200/200 [00:03<00:00, 65.09it/s]\n",
            "100%|██████████| 400/400 [00:05<00:00, 70.76it/s]\n"
          ]
        },
        {
          "name": "stdout",
          "output_type": "stream",
          "text": [
            "Best Precision@1: 0.7758\n",
            "\n",
            "Epoch [48/50], Step [200/200], Loss: 0.2079\n"
          ]
        },
        {
          "name": "stderr",
          "output_type": "stream",
          "text": [
            "100%|██████████| 200/200 [00:03<00:00, 53.03it/s]\n",
            "100%|██████████| 400/400 [00:04<00:00, 80.09it/s]\n"
          ]
        },
        {
          "name": "stdout",
          "output_type": "stream",
          "text": [
            "\n",
            "Epoch [49/50], Step [200/200], Loss: 0.1739\n"
          ]
        },
        {
          "name": "stderr",
          "output_type": "stream",
          "text": [
            "100%|██████████| 200/200 [00:03<00:00, 51.20it/s]\n",
            "100%|██████████| 400/400 [00:04<00:00, 81.40it/s]\n"
          ]
        },
        {
          "name": "stdout",
          "output_type": "stream",
          "text": [
            "Best Precision@1: 0.7759\n",
            "\n",
            "Epoch [50/50], Step [200/200], Loss: 0.1616\n"
          ]
        },
        {
          "name": "stderr",
          "output_type": "stream",
          "text": [
            "100%|██████████| 200/200 [00:02<00:00, 67.06it/s]\n",
            "100%|██████████| 400/400 [00:05<00:00, 79.30it/s]\n"
          ]
        },
        {
          "name": "stdout",
          "output_type": "stream",
          "text": [
            "Best Precision@1: 0.7764000000000001\n",
            "\n"
          ]
        }
      ],
      "source": [
        "# TODO: Uncomment this to train your embedding model\n",
        "torch.cuda.empty_cache()    # Clean-up memory 1st\n",
        "train_embedding_model(train_dataset, test_dataset)"
      ]
    },
    {
      "cell_type": "markdown",
      "metadata": {
        "id": "5FZopLsCcIeB"
      },
      "source": [
        "### Part 4: Application\n",
        "In the below examples, we perform inference with the trained embedding model using K-nearest neighbors."
      ]
    },
    {
      "cell_type": "code",
      "execution_count": 14,
      "metadata": {
        "colab": {
          "base_uri": "https://localhost:8080/"
        },
        "id": "pjc3_gKWcIeB",
        "outputId": "af3f728e-5ce2-4c87-ef95-390d20a030ee"
      },
      "outputs": [
        {
          "data": {
            "text/plain": [
              "<All keys matched successfully>"
            ]
          },
          "execution_count": 14,
          "metadata": {},
          "output_type": "execute_result"
        }
      ],
      "source": [
        "torch.cuda.empty_cache()    # Clean-up memory 1st\n",
        "\n",
        "# Load your trained model\n",
        "# Base ViT\n",
        "vit_model = ViT(\n",
        "    image_size=image_size,\n",
        "    patch_size=patch_size,\n",
        "    num_channels=in_channels,\n",
        "    hidden_size=hidden_size,\n",
        "    layers=layers,\n",
        "    heads=heads)\n",
        "\n",
        "# Embedding head\n",
        "model_embedding = LinearEmbeddingHead(hidden_size=vit_model.hidden_size, embed_size=embed_size)\n",
        "if torch.cuda.is_available():\n",
        "    vit_model = vit_model.cuda()\n",
        "    model_embedding = model_embedding.cuda()\n",
        "\n",
        "# Load saved checkpoint\n",
        "checkpoint = torch.load(\"vit_embeds.pt\")\n",
        "vit_model.load_state_dict(checkpoint[\"vit\"])\n",
        "model_embedding.load_state_dict(checkpoint[\"embedding_head\"])"
      ]
    },
    {
      "cell_type": "markdown",
      "metadata": {
        "id": "Fexgj9XacIeB"
      },
      "source": [
        "To quickly infer K-nearest neighbors, we construct a small bank, where the (image, label) pairs in the bank are sampled from the training set."
      ]
    },
    {
      "cell_type": "code",
      "execution_count": 15,
      "metadata": {
        "colab": {
          "base_uri": "https://localhost:8080/"
        },
        "id": "SlcahsP8cIeB",
        "outputId": "832f50dc-9b4b-462b-b118-684c4cc96a3e"
      },
      "outputs": [
        {
          "name": "stdout",
          "output_type": "stream",
          "text": [
            "Num. samples in subset: 250\n"
          ]
        },
        {
          "name": "stderr",
          "output_type": "stream",
          "text": [
            "100%|██████████| 10/10 [00:00<00:00, 32.80it/s]\n"
          ]
        }
      ],
      "source": [
        "# Sample a bank, which is a small subset of trainset\n",
        "bank = sample_balanced_subset(train_dataset, n_samples_per_class=25)\n",
        "X_bank_embeds, Y_bank = get_embeddings_over_dataset(bank, vit_model=vit_model, model_embedding=model_embedding)"
      ]
    },
    {
      "cell_type": "markdown",
      "metadata": {
        "id": "j1rnRE7ecIeB"
      },
      "source": [
        "Now, we perform the K-nearest neighbors, by comparing our sample against the embeddings in the bank.\n",
        "\n",
        "**(0.5 out of 8)** You are to finish the implementation of the function `retrieve_topk_nearest_neighbors_l2`, in order to acquire the demoing visualizations."
      ]
    },
    {
      "cell_type": "code",
      "execution_count": 16,
      "metadata": {
        "colab": {
          "base_uri": "https://localhost:8080/",
          "height": 303
        },
        "id": "5qPWoJl0cIeB",
        "outputId": "4d44147d-4ed4-4707-ca34-894e74fc43f3"
      },
      "outputs": [
        {
          "data": {
            "image/png": "[encoded data removed]",
            "text/plain": [
              "<Figure size 1800x300 with 6 Axes>"
            ]
          },
          "metadata": {},
          "output_type": "display_data"
        }
      ],
      "source": [
        "# Deep KNN\n",
        "def retrieve_topk_nearest_neighbors_l2(\n",
        "    query: torch.Tensor,\n",
        "    ref: torch.Tensor,\n",
        "    k: int = 5,\n",
        "    ):\n",
        "    \"\"\"Calculate L2 distance between query and ref embeddings.\n",
        "    Return the top-k scores and the indices of the top-k scores.\n",
        "    \"\"\"\n",
        "    #########################\n",
        "    # Finish Your Code HERE\n",
        "    # #########################\n",
        "    # TODO: Implement L2 distance and topk ops\n",
        "\n",
        "    distance = torch.sqrt(torch.sum((query-ref)**2, dim=1))  # This is Euclidean distance between pairs of query and reference vectors in PyTorch.\n",
        "\n",
        "    top_k_scores, indices = torch.topk(distance, k=k, largest=True)   # To find k smallest we use (largest=true) and distances are typically inversely proportional to similarity\n",
        "    # #########################\n",
        "\n",
        "    return top_k_scores, indices\n",
        "\n",
        "# Grab some samples in test set\n",
        "dataiter = iter(test_loader)\n",
        "X, Y = next(dataiter)\n",
        "X_embeds = get_embeddings(X, vit_model=vit_model, model_embedding=model_embedding)\n",
        "\n",
        "# One random sample\n",
        "idx = np.random.randint(0, X.shape[0])\n",
        "img, label, embed = X[idx], Y[idx], X_embeds[idx]\n",
        "\n",
        "# Get top-k nearest samples\n",
        "values, indices = retrieve_topk_nearest_neighbors_l2(embed.unsqueeze(0), X_bank_embeds)\n",
        "\n",
        "# Visualize results\n",
        "_, axes = plt.subplots(1, 6, figsize=(18, 3))\n",
        "axes[0].imshow(inverse_transform(img), cmap=\"gray\")\n",
        "axes[0].set_title(classes[label])\n",
        "for i, ind in enumerate(indices):\n",
        "    img_bank, label_bank = bank[ind]\n",
        "    axes[i + 1].imshow(inverse_transform(img_bank), cmap=\"gray\")\n",
        "    axes[i + 1].set_title(\"{}\\nScore: {:.3f}\".format(classes[label_bank], values[i]))"
      ]
    },
    {
      "cell_type": "markdown",
      "metadata": {
        "id": "eXjxINjkcIeC"
      },
      "source": [
        "The trained embedding model can also be used to train a new classifier.\n",
        "\n",
        "The intuition behind **Transfer Learning**, and a referring tutorial can be seen [here](https://pytorch.org/tutorials/beginner/transfer_learning_tutorial.html).\n",
        "\n",
        "**(1 out of 8)** Complete your code to train a classification head only, using your trained ViT embedding model. But you should not modify your trained ViT model weights in your `train_classification_model_head_only` function.\n",
        "\n",
        "A sample function to test with the classification head is provided, as `test_classification_model`."
      ]
    },
    {
      "cell_type": "code",
      "execution_count": 17,
      "metadata": {
        "id": "EbBOzeKLcIeC"
      },
      "outputs": [],
      "source": [
        "# Train a Classifier\n",
        "# -----\n",
        "\n",
        "def train_classification_model_head_only(\n",
        "    vit_model: nn.Module,\n",
        "    train_dataset,\n",
        "    test_dataset,\n",
        "    num_epochs: int = 5,\n",
        "    ):\n",
        "    #########################\n",
        "    # Finish Your Code HERE\n",
        "    # #########################\n",
        "\n",
        "    # Classifier\n",
        "    model_classifier = ClassificationHead(hidden_size=vit_model.hidden_size, num_classes=num_classes)\n",
        "    best_acc = 0.0\n",
        "    vit_model = ViT(\n",
        "        image_size=image_size,\n",
        "        patch_size=patch_size,\n",
        "        num_channels=in_channels,\n",
        "        hidden_size=hidden_size,\n",
        "        layers=layers,\n",
        "        heads=heads)\n",
        "    if torch.cuda.is_available():\n",
        "        vit_model = vit_model.cuda()\n",
        "        model_classifier = model_classifier.cuda()\n",
        "\n",
        "    criterion = nn.CrossEntropyLoss()\n",
        "\n",
        "    # Specify optimizer\n",
        "    parameters = list(vit_model.parameters()) + list(model_classifier.parameters())\n",
        "    optimizer = torch.optim.AdamW(\n",
        "        parameters,\n",
        "        lr=lr, weight_decay=weight_decay)\n",
        "\n",
        "    for epoch in range(num_epochs):\n",
        "        for i, (x, labels) in enumerate(train_loader):\n",
        "            vit_model.train()\n",
        "            model_classifier.train()\n",
        "\n",
        "            if torch.cuda.is_available():\n",
        "                x = x.cuda()\n",
        "                labels = labels.cuda()\n",
        "\n",
        "            # Forward pass\n",
        "            feats = vit_model(x)\n",
        "            outputs = model_classifier(feats)\n",
        "            loss = criterion(outputs, labels)\n",
        "\n",
        "            # Backward and optimize\n",
        "            optimizer.zero_grad()\n",
        "            loss.backward()\n",
        "            optimizer.step()\n",
        "\n",
        "            # NOTE: Show train loss at the end of epoch\n",
        "            # Feel free to modify this to log more steps\n",
        "            if (i+1) % len(train_loader) == 0:\n",
        "                print ('Epoch [{}/{}], Step [{}/{}], Loss: {:.4f}'\n",
        "                    .format(epoch+1, num_epochs, i+1, len(train_loader), loss.item()))\n",
        "\n",
        "        # Evaluate at the end\n",
        "        test_acc = test_classification_model(vit_model, model_classifier)\n",
        "        if test_acc > best_acc:\n",
        "            best_acc = test_acc\n",
        "            state_dict = {\n",
        "                \"classifier\": model_classifier.state_dict(),\n",
        "                \"vit\": vit_model.state_dict(),\n",
        "                \"acc\": best_acc,\n",
        "            }\n",
        "            torch.save(state_dict, \"vit_classifier.pt\")\n",
        "            print(\"Best test acc:\", best_acc)\n",
        "        print()\n",
        "\n",
        "    # #########################\n",
        "\n",
        "    # You should return the weights of your trained model, and the classification score (accuracy)\n",
        "    return {\"acc\": best_acc, \"vit\": vit_model.state_dict(), \"classifier\":model_classifier.state_dict()}\n",
        "\n",
        "def test_classification_model(\n",
        "    vit_model: nn.Module,\n",
        "    model_classifier: nn.Module,\n",
        "    ):\n",
        "    # Test the model\n",
        "    vit_model.eval()\n",
        "    model_classifier.eval()\n",
        "    with torch.no_grad():\n",
        "        correct = 0\n",
        "        total = 0\n",
        "        for images, labels in test_loader:\n",
        "            if torch.cuda.is_available():\n",
        "                images = images.cuda()\n",
        "                labels = labels.cuda()\n",
        "            feats = vit_model(images)\n",
        "            outputs = model_classifier(feats)\n",
        "            _, predicted = torch.max(outputs.data, 1)\n",
        "            total += labels.size(0)\n",
        "            correct += (predicted == labels).sum().item()\n",
        "        print('Test Accuracy: {} %'.format(100 * correct / total))\n",
        "    return correct / total"
      ]
    },
    {
      "cell_type": "code",
      "execution_count": 20,
      "metadata": {
        "colab": {
          "base_uri": "https://localhost:8080/"
        },
        "id": "LFqMr8FrcIeC",
        "outputId": "d924e376-696e-4d75-a627-2efb3e9c2fbf"
      },
      "outputs": [
        {
          "name": "stdout",
          "output_type": "stream",
          "text": [
            "Epoch [1/10], Step [2400/2400], Loss: 0.9794\n",
            "Test Accuracy: 70.62 %\n",
            "Best test acc: 0.7062\n",
            "\n",
            "Epoch [2/10], Step [2400/2400], Loss: 0.5602\n",
            "Test Accuracy: 75.42 %\n",
            "Best test acc: 0.7542\n",
            "\n",
            "Epoch [3/10], Step [2400/2400], Loss: 0.6460\n",
            "Test Accuracy: 77.46 %\n",
            "Best test acc: 0.7746\n",
            "\n",
            "Epoch [4/10], Step [2400/2400], Loss: 0.4169\n",
            "Test Accuracy: 78.92 %\n",
            "Best test acc: 0.7892\n",
            "\n",
            "Epoch [5/10], Step [2400/2400], Loss: 0.5542\n",
            "Test Accuracy: 80.13 %\n",
            "Best test acc: 0.8013\n",
            "\n"
          ]
        }
      ],
      "source": [
        "# Train a deep classifier in 5 epochs\n",
        "\n",
        "train_dataset = torchvision.datasets.FashionMNIST(root='./data', train=True, download=True, transform=tfm_train)\n",
        "test_dataset = torchvision.datasets.FashionMNIST(root='./data', train=False, download=True, transform=tfm_test)\n",
        "\n",
        "train_loader = torch.utils.data.DataLoader(train_dataset, batch_size=batch_size, shuffle=True, num_workers=2)\n",
        "test_loader = torch.utils.data.DataLoader(test_dataset, batch_size=batch_size, shuffle=False, num_workers=2)\n",
        "\n",
        "train_classification_model_head_only(vit_model, train_dataset, test_dataset)\n",
        "\n",
        "del train_dataset\n",
        "del test_dataset"
      ]
    }
  ],
  "metadata": {
    "accelerator": "GPU",
    "colab": {
      "gpuType": "T4",
      "provenance": []
    },
    "kernelspec": {
      "display_name": "Python 3.11.4 64-bit",
      "language": "python",
      "name": "python3"
    },
    "language_info": {
      "codemirror_mode": {
        "name": "ipython",
        "version": 3
      },
      "file_extension": ".py",
      "mimetype": "text/x-python",
      "name": "python",
      "nbconvert_exporter": "python",
      "pygments_lexer": "ipython3",
      "version": "3.11.4"
    },
    "vscode": {
      "interpreter": {
        "hash": "b0fa6594d8f4cbf19f97940f81e996739fb7646882a419484c72d19e05852a7e"
      }
    }
  },
  "nbformat": 4,
  "nbformat_minor": 0
}
